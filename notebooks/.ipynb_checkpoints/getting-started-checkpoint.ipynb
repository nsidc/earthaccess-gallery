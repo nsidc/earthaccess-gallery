{
 "cells": [
  {
   "cell_type": "markdown",
   "id": "87112726-35ed-4700-90c9-27a8226495c3",
   "metadata": {},
   "source": [
    "# Getting Started\n",
    "\n",
    "* Three lines of code to get the data\n",
    "\n",
    "* More details on spatial search options, temporal search, keyword search\n",
    "\n",
    "    * Emphasize reproducibility \n",
    "    * earthaccess as a complement to other search tools like Earthdata Search\n",
    "\n",
    "* Show both download to local machine and s3 access: Same code\n",
    "\n",
    "* Coming features / roadmap\n",
    "    * earthaccess.explore()\n",
    "        * Even though .explore() won’t be fully merged, it’s still good to show upcoming features\n",
    "    * Kerchunk\n",
    "\n",
    "* Call to action\n",
    "    * Make it clear that this is a community effort; highlight what’s already been done"
   ]
  }
 ],
 "metadata": {
  "kernelspec": {
   "display_name": "Python 3 (ipykernel)",
   "language": "python",
   "name": "python3"
  },
  "language_info": {
   "codemirror_mode": {
    "name": "ipython",
    "version": 3
   },
   "file_extension": ".py",
   "mimetype": "text/x-python",
   "name": "python",
   "nbconvert_exporter": "python",
   "pygments_lexer": "ipython3",
   "version": "3.10.12"
  }
 },
 "nbformat": 4,
 "nbformat_minor": 5
}
