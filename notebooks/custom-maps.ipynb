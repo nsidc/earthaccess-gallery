{
 "cells": [
  {
   "cell_type": "code",
   "execution_count": 1,
   "id": "d6949dd5-4c06-4bfe-928a-3ff86020a938",
   "metadata": {},
   "outputs": [],
   "source": [
    "import earthaccess\n",
    "import ipyleaflet\n",
    "from ipywidgets import Dropdown\n",
    "from shapely.geometry.polygon import orient\n",
    "from shapely.geometry import Polygon\n",
    "\n",
    "auth = earthaccess.login()"
   ]
  },
  {
   "cell_type": "code",
   "execution_count": 2,
   "id": "f7df3940-0c94-4530-b5b0-5c6a89ab1f61",
   "metadata": {
    "scrolled": true
   },
   "outputs": [],
   "source": [
    "# ArcticDEM\n",
    "# note that we need to use the same projection for the image service layer and the map.\n",
    "m1 = ipyleaflet.Map(\n",
    "    center=(90, 0),\n",
    "    zoom=4,\n",
    "    basemap=ipyleaflet.basemaps.Esri.ArcticOceanBase,\n",
    "    crs=ipyleaflet.projections.EPSG5936.ESRIBasemap,\n",
    ")\n",
    "# add arctic ocean reference basemap\n",
    "tl1 = ipyleaflet.basemap_to_tiles(ipyleaflet.basemaps.Esri.ArcticOceanReference)\n",
    "m1.add(tl1)\n",
    "\n",
    "# create a widget control for the raster function\n",
    "raster_functions = [\n",
    "    \"Aspect Map\",\n",
    "    \"Contour 25\",\n",
    "    \"Hillshade Elevation Tinted\",\n",
    "    \"Hillshade Gray\",\n",
    "    \"Height Ellipsoidal\",\n",
    "    \"Height Orthometric\",\n",
    "    \"Slope Map\"]\n",
    "raster_dropdown1 = Dropdown(\n",
    "    value=raster_functions[3],\n",
    "    options=raster_functions,\n",
    "    description=\"Raster:\",\n",
    ")\n",
    "\n",
    "# add image service layer with ArcticDEM\n",
    "url = 'https://elevation2.arcgis.com/arcgis/rest/services/Polar/ArcticDEM/ImageServer'\n",
    "rendering_rule = {\"rasterFunction\": raster_dropdown1.value}\n",
    "image_layer = ipyleaflet.ImageService(\n",
    "    name=\"CustomBaseLayer\",\n",
    "    url=url,\n",
    "    format='jpgpng', rendering_rule=rendering_rule,\n",
    "    attribution='Esri, PGC, UMN, NSF, NGA, DigitalGlobe',\n",
    "    crs=ipyleaflet.projections.EPSG5936.ESRIBasemap)\n",
    "\n",
    "m1.add(image_layer) \n",
    "\n",
    "# add control for raster function\n",
    "dropdown_control = ipyleaflet.WidgetControl(widget=raster_dropdown1, position=\"topright\")\n",
    "m1.add(dropdown_control)\n",
    "\n",
    "# set the rendering rule\n",
    "def set_raster_function(sender):\n",
    "    image_layer.rendering_rule = {\"rasterFunction\": raster_dropdown1.value}\n",
    "    # force redrawing of map by removing and adding layer\n",
    "    m1.remove(image_layer)\n",
    "    m1.add(image_layer)\n",
    "\n",
    "\n",
    "# watch raster function widget for changes\n",
    "raster_dropdown1.observe(set_raster_function)"
   ]
  },
  {
   "cell_type": "code",
   "execution_count": 4,
   "id": "0611e720-d8df-4795-9731-59d7d7784f4f",
   "metadata": {},
   "outputs": [
    {
     "name": "stdout",
     "output_type": "stream",
     "text": [
      "Granules found: 226\n"
     ]
    },
    {
     "data": {
      "application/vnd.jupyter.widget-view+json": {
       "model_id": "09d70c3283fb4325bea12293a1cfe6bd",
       "version_major": 2,
       "version_minor": 0
      },
      "text/plain": [
       "Map(bottom=4522.0, center=[81.4933956130152, -156.34019174209232], controls=(ZoomControl(options=['position', …"
      ]
     },
     "execution_count": 4,
     "metadata": {},
     "output_type": "execute_result"
    }
   ],
   "source": [
    "# polygon = [(-83.837578, 45.82529), (-80.167794, 45.82529), (-80.167794, 46.021921), (-83.837578, 46.021921), (-83.837578, 45.82529)]\n",
    "coords = [(-139.59, 59.53), (-138.80, 59.90), (-137.15, 59.45),(-137.30, 58.78),(-138.64, 59.18),(-139.59, 59.53)]\n",
    "polygon = list(orient(Polygon(coords)).exterior.coords)\n",
    "\n",
    "\n",
    "if 'sw' in vars():\n",
    "    if len(sw.roi) > 0:\n",
    "        polygon = sw.roi\n",
    "else:\n",
    "    sw = earthaccess.SearchWidget(map=m1)\n",
    "\n",
    "\n",
    "params = {\n",
    "    \"concept_id\" : [\"C2596864127-NSIDC_CPRD\", \"C2076090826-LPCLOUD\", \"C2237824918-ORNL_CLOUD\"],\n",
    "    \"temporal\": (\"2020-01\", \"2023-09\"),\n",
    "    # \"cloud_cover\": (0, 20),\n",
    "    \"polygon\": polygon\n",
    "}\n",
    "results = earthaccess.search_data(**params)\n",
    "m = sw.explore(results, roi={\"polygon\": polygon})\n",
    "# explore will inject its own controls so we add the base layer dropdown back\n",
    "try:\n",
    "    sw.map.add(dropdown_control)\n",
    "except Exception:\n",
    "    pass\n",
    "m"
   ]
  }
 ],
 "metadata": {
  "kernelspec": {
   "display_name": "Python 3 (ipykernel)",
   "language": "python",
   "name": "python3"
  },
  "language_info": {
   "codemirror_mode": {
    "name": "ipython",
    "version": 3
   },
   "file_extension": ".py",
   "mimetype": "text/x-python",
   "name": "python",
   "nbconvert_exporter": "python",
   "pygments_lexer": "ipython3",
   "version": "3.10.13"
  }
 },
 "nbformat": 4,
 "nbformat_minor": 5
}
