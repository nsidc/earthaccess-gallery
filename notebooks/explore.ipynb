{
 "cells": [
  {
   "cell_type": "markdown",
   "id": "56ba2387-54e8-4aa5-aedb-c7d90644536f",
   "metadata": {
    "tags": [],
    "user_expressions": []
   },
   "source": [
    "# earthaccess a NASA Earthdata API Client 🌍 in Python\n",
    "\n",
    "## Overview\n",
    "\n",
    "**TL;DR**:  *earthaccess* is uses NASA APIs to search, preview and access NASA datasets on-prem and in the cloud with 4 lines of Python.\n",
    "\n",
    "There are many ways to access NASA datasets, we can use the NASA's Earthdata search portal. We can use DAAC specific websites or tools.\n",
    "We could even use data.gov! These web portals are great but... they are not designed for programmatic access and reproducible workflows. \n",
    "This is extremely important in the age of the cloud and reproducible open science. In this context, **earthaccess** aims to be a simple \n",
    "library that can deal with the important parts of the metadata so we can access or download data without having to worry if a given dataset is on-prem or in the cloud.\n",
    "\n",
    "The core function of auth is to deal with cloud credentials and remote file sessions (fsspec or requests).\n",
    "essentially, anything that requires you to log in to Earthdata. Most of this will happen behind-the-scenes for you once you have been authenticated."
   ]
  },
  {
   "cell_type": "markdown",
   "id": "ef7372e6-4495-4191-a377-dbcee15065f0",
   "metadata": {
    "tags": [],
    "user_expressions": []
   },
   "source": [
    "### NASA EDL and the Auth class\n",
    "\n",
    "* **Step 1**. We need to open an account with [NASA Eardtada](https://urs.earthdata.nasa.gov/), this credentials will allow us to access NASA datasets.\n",
    "\n",
    "Once we have our account we can use it with *earthaccess*, as we are using features that are not merged yet we'll install it from source this time."
   ]
  },
  {
   "cell_type": "code",
   "execution_count": null,
   "id": "0e701d60-67b2-4288-a390-2621050bfb2c",
   "metadata": {
    "tags": []
   },
   "outputs": [],
   "source": [
    "%pip uninstall -yq earthaccess\n",
    "%pip install -q git+https://github.com/nsidc/earthaccess.git@explore"
   ]
  },
  {
   "cell_type": "code",
   "execution_count": null,
   "id": "067af873-c063-4fa4-9f1e-3869d1fbe2a4",
   "metadata": {
    "scrolled": true
   },
   "outputs": [],
   "source": [
    "import logging\n",
    "logging.basicConfig(level=logging.INFO,\n",
    "                    force = True)\n",
    "\n",
    "try:\n",
    "    import earthaccess\n",
    "    import xarray as xr\n",
    "    from pyproj import Geod\n",
    "    import numpy as np\n",
    "    import hvplot.xarray\n",
    "    from matplotlib import pyplot as plt\n",
    "    from pprint import pprint\n",
    "    import panel as pn\n",
    "    import panel.widgets as pnw\n",
    "    from pqdm.threads import pqdm\n",
    "except ImportError as e:\n",
    "    logging.warning(\"installing missing dependencies... \")\n",
    "    %pip install -qq matplotlib hvplot pyproj xarray numpy h5netcdf panel pqdm\n",
    "finally:\n",
    "    import earthaccess\n",
    "    import xarray as xr\n",
    "    from pyproj import Geod\n",
    "    import numpy as np\n",
    "    import hvplot.xarray\n",
    "    from matplotlib import pyplot as plt\n",
    "    from pprint import pprint\n",
    "    import panel.widgets as pnw\n",
    "    from pqdm.threads import pqdm\n",
    "    logging.info(\"Dependencies imported\")\n",
    "\n"
   ]
  },
  {
   "cell_type": "code",
   "execution_count": null,
   "id": "43c4b56d-3c39-477b-be22-6517b51a5592",
   "metadata": {
    "tags": []
   },
   "outputs": [],
   "source": [
    "auth = earthaccess.login()\n",
    "earthaccess.__version__"
   ]
  },
  {
   "cell_type": "markdown",
   "id": "9d8a1f0b-f1af-4ed4-bf06-1d68122cc4d5",
   "metadata": {},
   "source": [
    "## Searching for data using a region of interest"
   ]
  },
  {
   "cell_type": "code",
   "execution_count": null,
   "id": "786a86f7-bff8-4ab6-bb7d-321eadf367e6",
   "metadata": {},
   "outputs": [],
   "source": [
    "import warnings\n",
    "warnings.filterwarnings('ignore')\n",
    "\n",
    "path = \"bosque_primavera.json\"\n",
    "# path = \"bosque_primavera.kml\" \n",
    "# path = \"bosque_primavera.shp\"\n",
    "geom = earthaccess.load_geometry(path)"
   ]
  },
  {
   "cell_type": "markdown",
   "id": "3817feda-6a24-4624-94b5-c6458cfc5447",
   "metadata": {},
   "source": [
    "## Search and Access with earthaccess\n",
    "\n",
    "earthaccess uses NASA's [search API](https://cmr.earthdata.nasa.gov/search/site/docs/search/api.html) to search for data from the different Distributed Archive Centers, the data can be hosted by the DAACs or in AWS, with earthaccess we don't need to think about this because it will handle the authentication for us. For reproducible workflows we just need to use the dataset (or collection as NASA calls them) `concept_id`. \n",
    "\n",
    "The `concept_id` of a collection can be found with *earthaccess* or using NASA Earthdata [search portal](https://search.earthdata.nasa.gov/search).\n"
   ]
  },
  {
   "cell_type": "code",
   "execution_count": null,
   "id": "8c6547fb-193b-45b0-b01c-6308cbe86bb7",
   "metadata": {},
   "outputs": [],
   "source": [
    "results = earthaccess.search_data(\n",
    "    concept_id = [\"C2613553260-NSIDC_CPRD\", \"C2237824918-ORNL_CLOUD\", \"C1908348134-LPDAAC_ECS\", \"C2021957657-LPCLOUD\", \"C2631841556-LPCLOUD\"],\n",
    "    temporal = (\"2013\", \"2023\"),\n",
    "    # unpacking the dict\n",
    "    **geom\n",
    ")"
   ]
  },
  {
   "cell_type": "markdown",
   "id": "f211c241-f9ae-4929-8aea-009720911208",
   "metadata": {
    "tags": [],
    "user_expressions": []
   },
   "source": [
    "## Interactive metadata visualization with `explore()`\n"
   ]
  },
  {
   "cell_type": "code",
   "execution_count": null,
   "id": "e5e45722-e68c-47d8-8174-be36a3a3fc12",
   "metadata": {
    "scrolled": true
   },
   "outputs": [],
   "source": [
    "m = earthaccess.explore(results, roi=geom)\n",
    "m"
   ]
  },
  {
   "cell_type": "markdown",
   "id": "eb04733e-699f-4420-816c-ec2e28204245",
   "metadata": {},
   "source": [
    "## Accessing the data with `.download()` and `.open()` \n",
    "\n",
    "###  Option 1. I'm not in AWS"
   ]
  },
  {
   "cell_type": "code",
   "execution_count": null,
   "id": "2fc2c534-2de7-4d56-98a3-0dc5b4850931",
   "metadata": {},
   "outputs": [],
   "source": [
    "%%time\n",
    "\n",
    "results = earthaccess.search_data(\n",
    "    concept_id = [\"C2021957657-LPCLOUD\"],\n",
    "    temporal = (\"2013\", \"2023\"),\n",
    "    # unpacking the dict\n",
    "    **geom\n",
    ")"
   ]
  },
  {
   "cell_type": "markdown",
   "id": "4fe45fff-68ea-4f01-94c7-416d79cfd84c",
   "metadata": {},
   "source": [
    "### Option 2. I'm in AWS `us-west-2` ☁️ \n",
    "\n",
    "#### Analysis in place with S3 direct access\n",
    "\n",
    "Same API, just a different origin"
   ]
  },
  {
   "cell_type": "code",
   "execution_count": null,
   "id": "b2a294f1-b1f9-4cd4-8751-dfc32feacec1",
   "metadata": {
    "scrolled": true
   },
   "outputs": [],
   "source": [
    "%%time\n",
    "\n",
    "results = earthaccess.search_data(\n",
    "    concept_id = [\"C2021957657-LPCLOUD\"],\n",
    "    temporal = (\"2013\", \"2023\"),\n",
    "    # unpacking the dict\n",
    "    **geom\n",
    ")"
   ]
  },
  {
   "cell_type": "code",
   "execution_count": null,
   "id": "89f52dea-ac37-4a76-84b8-95a50fe41d69",
   "metadata": {},
   "outputs": [],
   "source": [
    "%%time\n",
    "files = earthaccess.open(results[0:4])"
   ]
  },
  {
   "cell_type": "code",
   "execution_count": null,
   "id": "6a422561-883e-4837-9ca3-a558883857fd",
   "metadata": {},
   "outputs": [],
   "source": [
    "import rioxarray\n",
    "\n",
    "ds = rioxarray.open_rasterio(files[0])\n",
    "ds"
   ]
  },
  {
   "cell_type": "code",
   "execution_count": null,
   "id": "e358d033-d74f-4f64-b54b-ee029bd80429",
   "metadata": {},
   "outputs": [],
   "source": [
    "geometries = [\n",
    "    {\n",
    "        'type': 'Polygon',\n",
    "        'coordinates':[geom[\"polygon\"]]\n",
    "    }\n",
    "]\n",
    "clipped = ds.rio.clip(geometries, drop=True, crs=4326)\n",
    "clipped"
   ]
  },
  {
   "cell_type": "code",
   "execution_count": null,
   "id": "3448c0ef-3259-4ef3-aee8-55adebfd19c5",
   "metadata": {},
   "outputs": [],
   "source": [
    "clipped.plot()"
   ]
  },
  {
   "cell_type": "code",
   "execution_count": null,
   "id": "c2a34db7-dbba-4ed7-805a-8f80037cd93f",
   "metadata": {},
   "outputs": [],
   "source": [
    "\n",
    "clipped.hvplot(x=\"x\", y=\"y\", crs=xds.rio.estimate_utm_crs()) * map"
   ]
  },
  {
   "cell_type": "markdown",
   "id": "f7c90c43-6e17-42f5-8bf5-95fdd3cb0dce",
   "metadata": {},
   "source": [
    "## Next Steps: Subsetting in the Cloud\n",
    "\n",
    "\n",
    "After looking at the spatial coverage of some of the data we've been working with there is a clear need to perform a data reduction "
   ]
  },
  {
   "cell_type": "code",
   "execution_count": null,
   "id": "434466a3-602b-4dff-a260-f7db6901514a",
   "metadata": {},
   "outputs": [],
   "source": [
    "%%time\n",
    "# accessing the data on prem means downloading it if we are in a local environment or \"uploading them\" if we are in the cloud.\n",
    "order = earthaccess.subset(results, roi=polygon)"
   ]
  },
  {
   "cell_type": "markdown",
   "id": "d779e877-2f0c-4da2-92d5-6cc299204956",
   "metadata": {},
   "source": [
    "### Related links\n",
    "\n",
    "**CMR** API documentation: https://cmr.earthaccess.nasa.gov/search/site/docs/search/api.html\n",
    "\n",
    "**EDL** API documentation: https://urs.earthaccess.nasa.gov/\n",
    "\n",
    "NASA OpenScapes: https://nasa-openscapes.github.io/earthaccess-cloud-cookbook/\n",
    "\n",
    "NSIDC: https://nsidc.org"
   ]
  }
 ],
 "metadata": {
  "kernelspec": {
   "display_name": "Python 3 (ipykernel)",
   "language": "python",
   "name": "python3"
  },
  "language_info": {
   "codemirror_mode": {
    "name": "ipython",
    "version": 3
   },
   "file_extension": ".py",
   "mimetype": "text/x-python",
   "name": "python",
   "nbconvert_exporter": "python",
   "pygments_lexer": "ipython3",
   "version": "3.10.13"
  }
 },
 "nbformat": 4,
 "nbformat_minor": 5
}
